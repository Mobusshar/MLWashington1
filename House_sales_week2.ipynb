{
 "cells": [
  {
   "cell_type": "code",
   "execution_count": 2,
   "metadata": {
    "collapsed": true
   },
   "outputs": [],
   "source": [
    "import graphlab"
   ]
  },
  {
   "cell_type": "code",
   "execution_count": 3,
   "metadata": {
    "collapsed": false
   },
   "outputs": [
    {
     "name": "stdout",
     "output_type": "stream",
     "text": [
      "This non-commercial license of GraphLab Create for academic use is assigned to 16-31119-1@student.aiub.edu and will expire on June 12, 2021.\n"
     ]
    },
    {
     "name": "stderr",
     "output_type": "stream",
     "text": [
      "[INFO] graphlab.cython.cy_server: GraphLab Create v2.1 started. Logging: C:\\Users\\MOBUSS~2\\AppData\\Local\\Temp\\graphlab_server_1592653007.log.0\n"
     ]
    }
   ],
   "source": [
    "sales = graphlab.SFrame('home_data.sframe/')"
   ]
  },
  {
   "cell_type": "code",
   "execution_count": 4,
   "metadata": {
    "collapsed": false
   },
   "outputs": [
    {
     "data": {
      "text/html": [
       "<div style=\"max-height:1000px;max-width:1500px;overflow:auto;\"><table frame=\"box\" rules=\"cols\">\n",
       "    <tr>\n",
       "        <th style=\"padding-left: 1em; padding-right: 1em; text-align: center\">id</th>\n",
       "        <th style=\"padding-left: 1em; padding-right: 1em; text-align: center\">date</th>\n",
       "        <th style=\"padding-left: 1em; padding-right: 1em; text-align: center\">price</th>\n",
       "        <th style=\"padding-left: 1em; padding-right: 1em; text-align: center\">bedrooms</th>\n",
       "        <th style=\"padding-left: 1em; padding-right: 1em; text-align: center\">bathrooms</th>\n",
       "        <th style=\"padding-left: 1em; padding-right: 1em; text-align: center\">sqft_living</th>\n",
       "        <th style=\"padding-left: 1em; padding-right: 1em; text-align: center\">sqft_lot</th>\n",
       "        <th style=\"padding-left: 1em; padding-right: 1em; text-align: center\">floors</th>\n",
       "        <th style=\"padding-left: 1em; padding-right: 1em; text-align: center\">waterfront</th>\n",
       "    </tr>\n",
       "    <tr>\n",
       "        <td style=\"padding-left: 1em; padding-right: 1em; text-align: center; vertical-align: top\">7129300520</td>\n",
       "        <td style=\"padding-left: 1em; padding-right: 1em; text-align: center; vertical-align: top\">2014-10-13 00:00:00+00:00</td>\n",
       "        <td style=\"padding-left: 1em; padding-right: 1em; text-align: center; vertical-align: top\">221900.0</td>\n",
       "        <td style=\"padding-left: 1em; padding-right: 1em; text-align: center; vertical-align: top\">3.0</td>\n",
       "        <td style=\"padding-left: 1em; padding-right: 1em; text-align: center; vertical-align: top\">1.0</td>\n",
       "        <td style=\"padding-left: 1em; padding-right: 1em; text-align: center; vertical-align: top\">1180.0</td>\n",
       "        <td style=\"padding-left: 1em; padding-right: 1em; text-align: center; vertical-align: top\">5650.0</td>\n",
       "        <td style=\"padding-left: 1em; padding-right: 1em; text-align: center; vertical-align: top\">1.0</td>\n",
       "        <td style=\"padding-left: 1em; padding-right: 1em; text-align: center; vertical-align: top\">0</td>\n",
       "    </tr>\n",
       "    <tr>\n",
       "        <td style=\"padding-left: 1em; padding-right: 1em; text-align: center; vertical-align: top\">6414100192</td>\n",
       "        <td style=\"padding-left: 1em; padding-right: 1em; text-align: center; vertical-align: top\">2014-12-09 00:00:00+00:00</td>\n",
       "        <td style=\"padding-left: 1em; padding-right: 1em; text-align: center; vertical-align: top\">538000.0</td>\n",
       "        <td style=\"padding-left: 1em; padding-right: 1em; text-align: center; vertical-align: top\">3.0</td>\n",
       "        <td style=\"padding-left: 1em; padding-right: 1em; text-align: center; vertical-align: top\">2.25</td>\n",
       "        <td style=\"padding-left: 1em; padding-right: 1em; text-align: center; vertical-align: top\">2570.0</td>\n",
       "        <td style=\"padding-left: 1em; padding-right: 1em; text-align: center; vertical-align: top\">7242.0</td>\n",
       "        <td style=\"padding-left: 1em; padding-right: 1em; text-align: center; vertical-align: top\">2.0</td>\n",
       "        <td style=\"padding-left: 1em; padding-right: 1em; text-align: center; vertical-align: top\">0</td>\n",
       "    </tr>\n",
       "    <tr>\n",
       "        <td style=\"padding-left: 1em; padding-right: 1em; text-align: center; vertical-align: top\">5631500400</td>\n",
       "        <td style=\"padding-left: 1em; padding-right: 1em; text-align: center; vertical-align: top\">2015-02-25 00:00:00+00:00</td>\n",
       "        <td style=\"padding-left: 1em; padding-right: 1em; text-align: center; vertical-align: top\">180000.0</td>\n",
       "        <td style=\"padding-left: 1em; padding-right: 1em; text-align: center; vertical-align: top\">2.0</td>\n",
       "        <td style=\"padding-left: 1em; padding-right: 1em; text-align: center; vertical-align: top\">1.0</td>\n",
       "        <td style=\"padding-left: 1em; padding-right: 1em; text-align: center; vertical-align: top\">770.0</td>\n",
       "        <td style=\"padding-left: 1em; padding-right: 1em; text-align: center; vertical-align: top\">10000.0</td>\n",
       "        <td style=\"padding-left: 1em; padding-right: 1em; text-align: center; vertical-align: top\">1.0</td>\n",
       "        <td style=\"padding-left: 1em; padding-right: 1em; text-align: center; vertical-align: top\">0</td>\n",
       "    </tr>\n",
       "    <tr>\n",
       "        <td style=\"padding-left: 1em; padding-right: 1em; text-align: center; vertical-align: top\">2487200875</td>\n",
       "        <td style=\"padding-left: 1em; padding-right: 1em; text-align: center; vertical-align: top\">2014-12-09 00:00:00+00:00</td>\n",
       "        <td style=\"padding-left: 1em; padding-right: 1em; text-align: center; vertical-align: top\">604000.0</td>\n",
       "        <td style=\"padding-left: 1em; padding-right: 1em; text-align: center; vertical-align: top\">4.0</td>\n",
       "        <td style=\"padding-left: 1em; padding-right: 1em; text-align: center; vertical-align: top\">3.0</td>\n",
       "        <td style=\"padding-left: 1em; padding-right: 1em; text-align: center; vertical-align: top\">1960.0</td>\n",
       "        <td style=\"padding-left: 1em; padding-right: 1em; text-align: center; vertical-align: top\">5000.0</td>\n",
       "        <td style=\"padding-left: 1em; padding-right: 1em; text-align: center; vertical-align: top\">1.0</td>\n",
       "        <td style=\"padding-left: 1em; padding-right: 1em; text-align: center; vertical-align: top\">0</td>\n",
       "    </tr>\n",
       "    <tr>\n",
       "        <td style=\"padding-left: 1em; padding-right: 1em; text-align: center; vertical-align: top\">1954400510</td>\n",
       "        <td style=\"padding-left: 1em; padding-right: 1em; text-align: center; vertical-align: top\">2015-02-18 00:00:00+00:00</td>\n",
       "        <td style=\"padding-left: 1em; padding-right: 1em; text-align: center; vertical-align: top\">510000.0</td>\n",
       "        <td style=\"padding-left: 1em; padding-right: 1em; text-align: center; vertical-align: top\">3.0</td>\n",
       "        <td style=\"padding-left: 1em; padding-right: 1em; text-align: center; vertical-align: top\">2.0</td>\n",
       "        <td style=\"padding-left: 1em; padding-right: 1em; text-align: center; vertical-align: top\">1680.0</td>\n",
       "        <td style=\"padding-left: 1em; padding-right: 1em; text-align: center; vertical-align: top\">8080.0</td>\n",
       "        <td style=\"padding-left: 1em; padding-right: 1em; text-align: center; vertical-align: top\">1.0</td>\n",
       "        <td style=\"padding-left: 1em; padding-right: 1em; text-align: center; vertical-align: top\">0</td>\n",
       "    </tr>\n",
       "    <tr>\n",
       "        <td style=\"padding-left: 1em; padding-right: 1em; text-align: center; vertical-align: top\">7237550310</td>\n",
       "        <td style=\"padding-left: 1em; padding-right: 1em; text-align: center; vertical-align: top\">2014-05-12 00:00:00+00:00</td>\n",
       "        <td style=\"padding-left: 1em; padding-right: 1em; text-align: center; vertical-align: top\">1225000.0</td>\n",
       "        <td style=\"padding-left: 1em; padding-right: 1em; text-align: center; vertical-align: top\">4.0</td>\n",
       "        <td style=\"padding-left: 1em; padding-right: 1em; text-align: center; vertical-align: top\">4.5</td>\n",
       "        <td style=\"padding-left: 1em; padding-right: 1em; text-align: center; vertical-align: top\">5420.0</td>\n",
       "        <td style=\"padding-left: 1em; padding-right: 1em; text-align: center; vertical-align: top\">101930.0</td>\n",
       "        <td style=\"padding-left: 1em; padding-right: 1em; text-align: center; vertical-align: top\">1.0</td>\n",
       "        <td style=\"padding-left: 1em; padding-right: 1em; text-align: center; vertical-align: top\">0</td>\n",
       "    </tr>\n",
       "    <tr>\n",
       "        <td style=\"padding-left: 1em; padding-right: 1em; text-align: center; vertical-align: top\">1321400060</td>\n",
       "        <td style=\"padding-left: 1em; padding-right: 1em; text-align: center; vertical-align: top\">2014-06-27 00:00:00+00:00</td>\n",
       "        <td style=\"padding-left: 1em; padding-right: 1em; text-align: center; vertical-align: top\">257500.0</td>\n",
       "        <td style=\"padding-left: 1em; padding-right: 1em; text-align: center; vertical-align: top\">3.0</td>\n",
       "        <td style=\"padding-left: 1em; padding-right: 1em; text-align: center; vertical-align: top\">2.25</td>\n",
       "        <td style=\"padding-left: 1em; padding-right: 1em; text-align: center; vertical-align: top\">1715.0</td>\n",
       "        <td style=\"padding-left: 1em; padding-right: 1em; text-align: center; vertical-align: top\">6819.0</td>\n",
       "        <td style=\"padding-left: 1em; padding-right: 1em; text-align: center; vertical-align: top\">2.0</td>\n",
       "        <td style=\"padding-left: 1em; padding-right: 1em; text-align: center; vertical-align: top\">0</td>\n",
       "    </tr>\n",
       "    <tr>\n",
       "        <td style=\"padding-left: 1em; padding-right: 1em; text-align: center; vertical-align: top\">2008000270</td>\n",
       "        <td style=\"padding-left: 1em; padding-right: 1em; text-align: center; vertical-align: top\">2015-01-15 00:00:00+00:00</td>\n",
       "        <td style=\"padding-left: 1em; padding-right: 1em; text-align: center; vertical-align: top\">291850.0</td>\n",
       "        <td style=\"padding-left: 1em; padding-right: 1em; text-align: center; vertical-align: top\">3.0</td>\n",
       "        <td style=\"padding-left: 1em; padding-right: 1em; text-align: center; vertical-align: top\">1.5</td>\n",
       "        <td style=\"padding-left: 1em; padding-right: 1em; text-align: center; vertical-align: top\">1060.0</td>\n",
       "        <td style=\"padding-left: 1em; padding-right: 1em; text-align: center; vertical-align: top\">9711.0</td>\n",
       "        <td style=\"padding-left: 1em; padding-right: 1em; text-align: center; vertical-align: top\">1.0</td>\n",
       "        <td style=\"padding-left: 1em; padding-right: 1em; text-align: center; vertical-align: top\">0</td>\n",
       "    </tr>\n",
       "    <tr>\n",
       "        <td style=\"padding-left: 1em; padding-right: 1em; text-align: center; vertical-align: top\">2414600126</td>\n",
       "        <td style=\"padding-left: 1em; padding-right: 1em; text-align: center; vertical-align: top\">2015-04-15 00:00:00+00:00</td>\n",
       "        <td style=\"padding-left: 1em; padding-right: 1em; text-align: center; vertical-align: top\">229500.0</td>\n",
       "        <td style=\"padding-left: 1em; padding-right: 1em; text-align: center; vertical-align: top\">3.0</td>\n",
       "        <td style=\"padding-left: 1em; padding-right: 1em; text-align: center; vertical-align: top\">1.0</td>\n",
       "        <td style=\"padding-left: 1em; padding-right: 1em; text-align: center; vertical-align: top\">1780.0</td>\n",
       "        <td style=\"padding-left: 1em; padding-right: 1em; text-align: center; vertical-align: top\">7470.0</td>\n",
       "        <td style=\"padding-left: 1em; padding-right: 1em; text-align: center; vertical-align: top\">1.0</td>\n",
       "        <td style=\"padding-left: 1em; padding-right: 1em; text-align: center; vertical-align: top\">0</td>\n",
       "    </tr>\n",
       "    <tr>\n",
       "        <td style=\"padding-left: 1em; padding-right: 1em; text-align: center; vertical-align: top\">3793500160</td>\n",
       "        <td style=\"padding-left: 1em; padding-right: 1em; text-align: center; vertical-align: top\">2015-03-12 00:00:00+00:00</td>\n",
       "        <td style=\"padding-left: 1em; padding-right: 1em; text-align: center; vertical-align: top\">323000.0</td>\n",
       "        <td style=\"padding-left: 1em; padding-right: 1em; text-align: center; vertical-align: top\">3.0</td>\n",
       "        <td style=\"padding-left: 1em; padding-right: 1em; text-align: center; vertical-align: top\">2.5</td>\n",
       "        <td style=\"padding-left: 1em; padding-right: 1em; text-align: center; vertical-align: top\">1890.0</td>\n",
       "        <td style=\"padding-left: 1em; padding-right: 1em; text-align: center; vertical-align: top\">6560.0</td>\n",
       "        <td style=\"padding-left: 1em; padding-right: 1em; text-align: center; vertical-align: top\">2.0</td>\n",
       "        <td style=\"padding-left: 1em; padding-right: 1em; text-align: center; vertical-align: top\">0</td>\n",
       "    </tr>\n",
       "</table>\n",
       "<table frame=\"box\" rules=\"cols\">\n",
       "    <tr>\n",
       "        <th style=\"padding-left: 1em; padding-right: 1em; text-align: center\">view</th>\n",
       "        <th style=\"padding-left: 1em; padding-right: 1em; text-align: center\">condition</th>\n",
       "        <th style=\"padding-left: 1em; padding-right: 1em; text-align: center\">grade</th>\n",
       "        <th style=\"padding-left: 1em; padding-right: 1em; text-align: center\">sqft_above</th>\n",
       "        <th style=\"padding-left: 1em; padding-right: 1em; text-align: center\">sqft_basement</th>\n",
       "        <th style=\"padding-left: 1em; padding-right: 1em; text-align: center\">yr_built</th>\n",
       "        <th style=\"padding-left: 1em; padding-right: 1em; text-align: center\">yr_renovated</th>\n",
       "        <th style=\"padding-left: 1em; padding-right: 1em; text-align: center\">zipcode</th>\n",
       "        <th style=\"padding-left: 1em; padding-right: 1em; text-align: center\">lat</th>\n",
       "    </tr>\n",
       "    <tr>\n",
       "        <td style=\"padding-left: 1em; padding-right: 1em; text-align: center; vertical-align: top\">0</td>\n",
       "        <td style=\"padding-left: 1em; padding-right: 1em; text-align: center; vertical-align: top\">3</td>\n",
       "        <td style=\"padding-left: 1em; padding-right: 1em; text-align: center; vertical-align: top\">7.0</td>\n",
       "        <td style=\"padding-left: 1em; padding-right: 1em; text-align: center; vertical-align: top\">1180.0</td>\n",
       "        <td style=\"padding-left: 1em; padding-right: 1em; text-align: center; vertical-align: top\">0.0</td>\n",
       "        <td style=\"padding-left: 1em; padding-right: 1em; text-align: center; vertical-align: top\">1955.0</td>\n",
       "        <td style=\"padding-left: 1em; padding-right: 1em; text-align: center; vertical-align: top\">0.0</td>\n",
       "        <td style=\"padding-left: 1em; padding-right: 1em; text-align: center; vertical-align: top\">98178</td>\n",
       "        <td style=\"padding-left: 1em; padding-right: 1em; text-align: center; vertical-align: top\">47.51123398</td>\n",
       "    </tr>\n",
       "    <tr>\n",
       "        <td style=\"padding-left: 1em; padding-right: 1em; text-align: center; vertical-align: top\">0</td>\n",
       "        <td style=\"padding-left: 1em; padding-right: 1em; text-align: center; vertical-align: top\">3</td>\n",
       "        <td style=\"padding-left: 1em; padding-right: 1em; text-align: center; vertical-align: top\">7.0</td>\n",
       "        <td style=\"padding-left: 1em; padding-right: 1em; text-align: center; vertical-align: top\">2170.0</td>\n",
       "        <td style=\"padding-left: 1em; padding-right: 1em; text-align: center; vertical-align: top\">400.0</td>\n",
       "        <td style=\"padding-left: 1em; padding-right: 1em; text-align: center; vertical-align: top\">1951.0</td>\n",
       "        <td style=\"padding-left: 1em; padding-right: 1em; text-align: center; vertical-align: top\">1991.0</td>\n",
       "        <td style=\"padding-left: 1em; padding-right: 1em; text-align: center; vertical-align: top\">98125</td>\n",
       "        <td style=\"padding-left: 1em; padding-right: 1em; text-align: center; vertical-align: top\">47.72102274</td>\n",
       "    </tr>\n",
       "    <tr>\n",
       "        <td style=\"padding-left: 1em; padding-right: 1em; text-align: center; vertical-align: top\">0</td>\n",
       "        <td style=\"padding-left: 1em; padding-right: 1em; text-align: center; vertical-align: top\">3</td>\n",
       "        <td style=\"padding-left: 1em; padding-right: 1em; text-align: center; vertical-align: top\">6.0</td>\n",
       "        <td style=\"padding-left: 1em; padding-right: 1em; text-align: center; vertical-align: top\">770.0</td>\n",
       "        <td style=\"padding-left: 1em; padding-right: 1em; text-align: center; vertical-align: top\">0.0</td>\n",
       "        <td style=\"padding-left: 1em; padding-right: 1em; text-align: center; vertical-align: top\">1933.0</td>\n",
       "        <td style=\"padding-left: 1em; padding-right: 1em; text-align: center; vertical-align: top\">0.0</td>\n",
       "        <td style=\"padding-left: 1em; padding-right: 1em; text-align: center; vertical-align: top\">98028</td>\n",
       "        <td style=\"padding-left: 1em; padding-right: 1em; text-align: center; vertical-align: top\">47.73792661</td>\n",
       "    </tr>\n",
       "    <tr>\n",
       "        <td style=\"padding-left: 1em; padding-right: 1em; text-align: center; vertical-align: top\">0</td>\n",
       "        <td style=\"padding-left: 1em; padding-right: 1em; text-align: center; vertical-align: top\">5</td>\n",
       "        <td style=\"padding-left: 1em; padding-right: 1em; text-align: center; vertical-align: top\">7.0</td>\n",
       "        <td style=\"padding-left: 1em; padding-right: 1em; text-align: center; vertical-align: top\">1050.0</td>\n",
       "        <td style=\"padding-left: 1em; padding-right: 1em; text-align: center; vertical-align: top\">910.0</td>\n",
       "        <td style=\"padding-left: 1em; padding-right: 1em; text-align: center; vertical-align: top\">1965.0</td>\n",
       "        <td style=\"padding-left: 1em; padding-right: 1em; text-align: center; vertical-align: top\">0.0</td>\n",
       "        <td style=\"padding-left: 1em; padding-right: 1em; text-align: center; vertical-align: top\">98136</td>\n",
       "        <td style=\"padding-left: 1em; padding-right: 1em; text-align: center; vertical-align: top\">47.52082</td>\n",
       "    </tr>\n",
       "    <tr>\n",
       "        <td style=\"padding-left: 1em; padding-right: 1em; text-align: center; vertical-align: top\">0</td>\n",
       "        <td style=\"padding-left: 1em; padding-right: 1em; text-align: center; vertical-align: top\">3</td>\n",
       "        <td style=\"padding-left: 1em; padding-right: 1em; text-align: center; vertical-align: top\">8.0</td>\n",
       "        <td style=\"padding-left: 1em; padding-right: 1em; text-align: center; vertical-align: top\">1680.0</td>\n",
       "        <td style=\"padding-left: 1em; padding-right: 1em; text-align: center; vertical-align: top\">0.0</td>\n",
       "        <td style=\"padding-left: 1em; padding-right: 1em; text-align: center; vertical-align: top\">1987.0</td>\n",
       "        <td style=\"padding-left: 1em; padding-right: 1em; text-align: center; vertical-align: top\">0.0</td>\n",
       "        <td style=\"padding-left: 1em; padding-right: 1em; text-align: center; vertical-align: top\">98074</td>\n",
       "        <td style=\"padding-left: 1em; padding-right: 1em; text-align: center; vertical-align: top\">47.61681228</td>\n",
       "    </tr>\n",
       "    <tr>\n",
       "        <td style=\"padding-left: 1em; padding-right: 1em; text-align: center; vertical-align: top\">0</td>\n",
       "        <td style=\"padding-left: 1em; padding-right: 1em; text-align: center; vertical-align: top\">3</td>\n",
       "        <td style=\"padding-left: 1em; padding-right: 1em; text-align: center; vertical-align: top\">11.0</td>\n",
       "        <td style=\"padding-left: 1em; padding-right: 1em; text-align: center; vertical-align: top\">3890.0</td>\n",
       "        <td style=\"padding-left: 1em; padding-right: 1em; text-align: center; vertical-align: top\">1530.0</td>\n",
       "        <td style=\"padding-left: 1em; padding-right: 1em; text-align: center; vertical-align: top\">2001.0</td>\n",
       "        <td style=\"padding-left: 1em; padding-right: 1em; text-align: center; vertical-align: top\">0.0</td>\n",
       "        <td style=\"padding-left: 1em; padding-right: 1em; text-align: center; vertical-align: top\">98053</td>\n",
       "        <td style=\"padding-left: 1em; padding-right: 1em; text-align: center; vertical-align: top\">47.65611835</td>\n",
       "    </tr>\n",
       "    <tr>\n",
       "        <td style=\"padding-left: 1em; padding-right: 1em; text-align: center; vertical-align: top\">0</td>\n",
       "        <td style=\"padding-left: 1em; padding-right: 1em; text-align: center; vertical-align: top\">3</td>\n",
       "        <td style=\"padding-left: 1em; padding-right: 1em; text-align: center; vertical-align: top\">7.0</td>\n",
       "        <td style=\"padding-left: 1em; padding-right: 1em; text-align: center; vertical-align: top\">1715.0</td>\n",
       "        <td style=\"padding-left: 1em; padding-right: 1em; text-align: center; vertical-align: top\">0.0</td>\n",
       "        <td style=\"padding-left: 1em; padding-right: 1em; text-align: center; vertical-align: top\">1995.0</td>\n",
       "        <td style=\"padding-left: 1em; padding-right: 1em; text-align: center; vertical-align: top\">0.0</td>\n",
       "        <td style=\"padding-left: 1em; padding-right: 1em; text-align: center; vertical-align: top\">98003</td>\n",
       "        <td style=\"padding-left: 1em; padding-right: 1em; text-align: center; vertical-align: top\">47.30972002</td>\n",
       "    </tr>\n",
       "    <tr>\n",
       "        <td style=\"padding-left: 1em; padding-right: 1em; text-align: center; vertical-align: top\">0</td>\n",
       "        <td style=\"padding-left: 1em; padding-right: 1em; text-align: center; vertical-align: top\">3</td>\n",
       "        <td style=\"padding-left: 1em; padding-right: 1em; text-align: center; vertical-align: top\">7.0</td>\n",
       "        <td style=\"padding-left: 1em; padding-right: 1em; text-align: center; vertical-align: top\">1060.0</td>\n",
       "        <td style=\"padding-left: 1em; padding-right: 1em; text-align: center; vertical-align: top\">0.0</td>\n",
       "        <td style=\"padding-left: 1em; padding-right: 1em; text-align: center; vertical-align: top\">1963.0</td>\n",
       "        <td style=\"padding-left: 1em; padding-right: 1em; text-align: center; vertical-align: top\">0.0</td>\n",
       "        <td style=\"padding-left: 1em; padding-right: 1em; text-align: center; vertical-align: top\">98198</td>\n",
       "        <td style=\"padding-left: 1em; padding-right: 1em; text-align: center; vertical-align: top\">47.40949984</td>\n",
       "    </tr>\n",
       "    <tr>\n",
       "        <td style=\"padding-left: 1em; padding-right: 1em; text-align: center; vertical-align: top\">0</td>\n",
       "        <td style=\"padding-left: 1em; padding-right: 1em; text-align: center; vertical-align: top\">3</td>\n",
       "        <td style=\"padding-left: 1em; padding-right: 1em; text-align: center; vertical-align: top\">7.0</td>\n",
       "        <td style=\"padding-left: 1em; padding-right: 1em; text-align: center; vertical-align: top\">1050.0</td>\n",
       "        <td style=\"padding-left: 1em; padding-right: 1em; text-align: center; vertical-align: top\">730.0</td>\n",
       "        <td style=\"padding-left: 1em; padding-right: 1em; text-align: center; vertical-align: top\">1960.0</td>\n",
       "        <td style=\"padding-left: 1em; padding-right: 1em; text-align: center; vertical-align: top\">0.0</td>\n",
       "        <td style=\"padding-left: 1em; padding-right: 1em; text-align: center; vertical-align: top\">98146</td>\n",
       "        <td style=\"padding-left: 1em; padding-right: 1em; text-align: center; vertical-align: top\">47.51229381</td>\n",
       "    </tr>\n",
       "    <tr>\n",
       "        <td style=\"padding-left: 1em; padding-right: 1em; text-align: center; vertical-align: top\">0</td>\n",
       "        <td style=\"padding-left: 1em; padding-right: 1em; text-align: center; vertical-align: top\">3</td>\n",
       "        <td style=\"padding-left: 1em; padding-right: 1em; text-align: center; vertical-align: top\">7.0</td>\n",
       "        <td style=\"padding-left: 1em; padding-right: 1em; text-align: center; vertical-align: top\">1890.0</td>\n",
       "        <td style=\"padding-left: 1em; padding-right: 1em; text-align: center; vertical-align: top\">0.0</td>\n",
       "        <td style=\"padding-left: 1em; padding-right: 1em; text-align: center; vertical-align: top\">2003.0</td>\n",
       "        <td style=\"padding-left: 1em; padding-right: 1em; text-align: center; vertical-align: top\">0.0</td>\n",
       "        <td style=\"padding-left: 1em; padding-right: 1em; text-align: center; vertical-align: top\">98038</td>\n",
       "        <td style=\"padding-left: 1em; padding-right: 1em; text-align: center; vertical-align: top\">47.36840673</td>\n",
       "    </tr>\n",
       "</table>\n",
       "<table frame=\"box\" rules=\"cols\">\n",
       "    <tr>\n",
       "        <th style=\"padding-left: 1em; padding-right: 1em; text-align: center\">long</th>\n",
       "        <th style=\"padding-left: 1em; padding-right: 1em; text-align: center\">sqft_living15</th>\n",
       "        <th style=\"padding-left: 1em; padding-right: 1em; text-align: center\">sqft_lot15</th>\n",
       "    </tr>\n",
       "    <tr>\n",
       "        <td style=\"padding-left: 1em; padding-right: 1em; text-align: center; vertical-align: top\">-122.25677536</td>\n",
       "        <td style=\"padding-left: 1em; padding-right: 1em; text-align: center; vertical-align: top\">1340.0</td>\n",
       "        <td style=\"padding-left: 1em; padding-right: 1em; text-align: center; vertical-align: top\">5650.0</td>\n",
       "    </tr>\n",
       "    <tr>\n",
       "        <td style=\"padding-left: 1em; padding-right: 1em; text-align: center; vertical-align: top\">-122.3188624</td>\n",
       "        <td style=\"padding-left: 1em; padding-right: 1em; text-align: center; vertical-align: top\">1690.0</td>\n",
       "        <td style=\"padding-left: 1em; padding-right: 1em; text-align: center; vertical-align: top\">7639.0</td>\n",
       "    </tr>\n",
       "    <tr>\n",
       "        <td style=\"padding-left: 1em; padding-right: 1em; text-align: center; vertical-align: top\">-122.23319601</td>\n",
       "        <td style=\"padding-left: 1em; padding-right: 1em; text-align: center; vertical-align: top\">2720.0</td>\n",
       "        <td style=\"padding-left: 1em; padding-right: 1em; text-align: center; vertical-align: top\">8062.0</td>\n",
       "    </tr>\n",
       "    <tr>\n",
       "        <td style=\"padding-left: 1em; padding-right: 1em; text-align: center; vertical-align: top\">-122.39318505</td>\n",
       "        <td style=\"padding-left: 1em; padding-right: 1em; text-align: center; vertical-align: top\">1360.0</td>\n",
       "        <td style=\"padding-left: 1em; padding-right: 1em; text-align: center; vertical-align: top\">5000.0</td>\n",
       "    </tr>\n",
       "    <tr>\n",
       "        <td style=\"padding-left: 1em; padding-right: 1em; text-align: center; vertical-align: top\">-122.04490059</td>\n",
       "        <td style=\"padding-left: 1em; padding-right: 1em; text-align: center; vertical-align: top\">1800.0</td>\n",
       "        <td style=\"padding-left: 1em; padding-right: 1em; text-align: center; vertical-align: top\">7503.0</td>\n",
       "    </tr>\n",
       "    <tr>\n",
       "        <td style=\"padding-left: 1em; padding-right: 1em; text-align: center; vertical-align: top\">-122.00528655</td>\n",
       "        <td style=\"padding-left: 1em; padding-right: 1em; text-align: center; vertical-align: top\">4760.0</td>\n",
       "        <td style=\"padding-left: 1em; padding-right: 1em; text-align: center; vertical-align: top\">101930.0</td>\n",
       "    </tr>\n",
       "    <tr>\n",
       "        <td style=\"padding-left: 1em; padding-right: 1em; text-align: center; vertical-align: top\">-122.32704857</td>\n",
       "        <td style=\"padding-left: 1em; padding-right: 1em; text-align: center; vertical-align: top\">2238.0</td>\n",
       "        <td style=\"padding-left: 1em; padding-right: 1em; text-align: center; vertical-align: top\">6819.0</td>\n",
       "    </tr>\n",
       "    <tr>\n",
       "        <td style=\"padding-left: 1em; padding-right: 1em; text-align: center; vertical-align: top\">-122.31457273</td>\n",
       "        <td style=\"padding-left: 1em; padding-right: 1em; text-align: center; vertical-align: top\">1650.0</td>\n",
       "        <td style=\"padding-left: 1em; padding-right: 1em; text-align: center; vertical-align: top\">9711.0</td>\n",
       "    </tr>\n",
       "    <tr>\n",
       "        <td style=\"padding-left: 1em; padding-right: 1em; text-align: center; vertical-align: top\">-122.33659507</td>\n",
       "        <td style=\"padding-left: 1em; padding-right: 1em; text-align: center; vertical-align: top\">1780.0</td>\n",
       "        <td style=\"padding-left: 1em; padding-right: 1em; text-align: center; vertical-align: top\">8113.0</td>\n",
       "    </tr>\n",
       "    <tr>\n",
       "        <td style=\"padding-left: 1em; padding-right: 1em; text-align: center; vertical-align: top\">-122.0308176</td>\n",
       "        <td style=\"padding-left: 1em; padding-right: 1em; text-align: center; vertical-align: top\">2390.0</td>\n",
       "        <td style=\"padding-left: 1em; padding-right: 1em; text-align: center; vertical-align: top\">7570.0</td>\n",
       "    </tr>\n",
       "</table>\n",
       "[21613 rows x 21 columns]<br/>Note: Only the head of the SFrame is printed.<br/>You can use print_rows(num_rows=m, num_columns=n) to print more rows and columns.\n",
       "</div>"
      ],
      "text/plain": [
       "Columns:\n",
       "\tid\tstr\n",
       "\tdate\tdatetime\n",
       "\tprice\tfloat\n",
       "\tbedrooms\tfloat\n",
       "\tbathrooms\tfloat\n",
       "\tsqft_living\tfloat\n",
       "\tsqft_lot\tfloat\n",
       "\tfloors\tfloat\n",
       "\twaterfront\tint\n",
       "\tview\tint\n",
       "\tcondition\tint\n",
       "\tgrade\tfloat\n",
       "\tsqft_above\tfloat\n",
       "\tsqft_basement\tfloat\n",
       "\tyr_built\tfloat\n",
       "\tyr_renovated\tfloat\n",
       "\tzipcode\tstr\n",
       "\tlat\tfloat\n",
       "\tlong\tfloat\n",
       "\tsqft_living15\tfloat\n",
       "\tsqft_lot15\tfloat\n",
       "\n",
       "Rows: 21613\n",
       "\n",
       "Data:\n",
       "+------------+---------------------------+-----------+----------+-----------+\n",
       "|     id     |            date           |   price   | bedrooms | bathrooms |\n",
       "+------------+---------------------------+-----------+----------+-----------+\n",
       "| 7129300520 | 2014-10-13 00:00:00+00:00 |  221900.0 |   3.0    |    1.0    |\n",
       "| 6414100192 | 2014-12-09 00:00:00+00:00 |  538000.0 |   3.0    |    2.25   |\n",
       "| 5631500400 | 2015-02-25 00:00:00+00:00 |  180000.0 |   2.0    |    1.0    |\n",
       "| 2487200875 | 2014-12-09 00:00:00+00:00 |  604000.0 |   4.0    |    3.0    |\n",
       "| 1954400510 | 2015-02-18 00:00:00+00:00 |  510000.0 |   3.0    |    2.0    |\n",
       "| 7237550310 | 2014-05-12 00:00:00+00:00 | 1225000.0 |   4.0    |    4.5    |\n",
       "| 1321400060 | 2014-06-27 00:00:00+00:00 |  257500.0 |   3.0    |    2.25   |\n",
       "| 2008000270 | 2015-01-15 00:00:00+00:00 |  291850.0 |   3.0    |    1.5    |\n",
       "| 2414600126 | 2015-04-15 00:00:00+00:00 |  229500.0 |   3.0    |    1.0    |\n",
       "| 3793500160 | 2015-03-12 00:00:00+00:00 |  323000.0 |   3.0    |    2.5    |\n",
       "+------------+---------------------------+-----------+----------+-----------+\n",
       "+-------------+----------+--------+------------+------+-----------+-------+\n",
       "| sqft_living | sqft_lot | floors | waterfront | view | condition | grade |\n",
       "+-------------+----------+--------+------------+------+-----------+-------+\n",
       "|    1180.0   |  5650.0  |  1.0   |     0      |  0   |     3     |  7.0  |\n",
       "|    2570.0   |  7242.0  |  2.0   |     0      |  0   |     3     |  7.0  |\n",
       "|    770.0    | 10000.0  |  1.0   |     0      |  0   |     3     |  6.0  |\n",
       "|    1960.0   |  5000.0  |  1.0   |     0      |  0   |     5     |  7.0  |\n",
       "|    1680.0   |  8080.0  |  1.0   |     0      |  0   |     3     |  8.0  |\n",
       "|    5420.0   | 101930.0 |  1.0   |     0      |  0   |     3     |  11.0 |\n",
       "|    1715.0   |  6819.0  |  2.0   |     0      |  0   |     3     |  7.0  |\n",
       "|    1060.0   |  9711.0  |  1.0   |     0      |  0   |     3     |  7.0  |\n",
       "|    1780.0   |  7470.0  |  1.0   |     0      |  0   |     3     |  7.0  |\n",
       "|    1890.0   |  6560.0  |  2.0   |     0      |  0   |     3     |  7.0  |\n",
       "+-------------+----------+--------+------------+------+-----------+-------+\n",
       "+------------+---------------+----------+--------------+---------+-------------+\n",
       "| sqft_above | sqft_basement | yr_built | yr_renovated | zipcode |     lat     |\n",
       "+------------+---------------+----------+--------------+---------+-------------+\n",
       "|   1180.0   |      0.0      |  1955.0  |     0.0      |  98178  | 47.51123398 |\n",
       "|   2170.0   |     400.0     |  1951.0  |    1991.0    |  98125  | 47.72102274 |\n",
       "|   770.0    |      0.0      |  1933.0  |     0.0      |  98028  | 47.73792661 |\n",
       "|   1050.0   |     910.0     |  1965.0  |     0.0      |  98136  |   47.52082  |\n",
       "|   1680.0   |      0.0      |  1987.0  |     0.0      |  98074  | 47.61681228 |\n",
       "|   3890.0   |     1530.0    |  2001.0  |     0.0      |  98053  | 47.65611835 |\n",
       "|   1715.0   |      0.0      |  1995.0  |     0.0      |  98003  | 47.30972002 |\n",
       "|   1060.0   |      0.0      |  1963.0  |     0.0      |  98198  | 47.40949984 |\n",
       "|   1050.0   |     730.0     |  1960.0  |     0.0      |  98146  | 47.51229381 |\n",
       "|   1890.0   |      0.0      |  2003.0  |     0.0      |  98038  | 47.36840673 |\n",
       "+------------+---------------+----------+--------------+---------+-------------+\n",
       "+---------------+---------------+-----+\n",
       "|      long     | sqft_living15 | ... |\n",
       "+---------------+---------------+-----+\n",
       "| -122.25677536 |     1340.0    | ... |\n",
       "|  -122.3188624 |     1690.0    | ... |\n",
       "| -122.23319601 |     2720.0    | ... |\n",
       "| -122.39318505 |     1360.0    | ... |\n",
       "| -122.04490059 |     1800.0    | ... |\n",
       "| -122.00528655 |     4760.0    | ... |\n",
       "| -122.32704857 |     2238.0    | ... |\n",
       "| -122.31457273 |     1650.0    | ... |\n",
       "| -122.33659507 |     1780.0    | ... |\n",
       "|  -122.0308176 |     2390.0    | ... |\n",
       "+---------------+---------------+-----+\n",
       "[21613 rows x 21 columns]\n",
       "Note: Only the head of the SFrame is printed.\n",
       "You can use print_rows(num_rows=m, num_columns=n) to print more rows and columns."
      ]
     },
     "execution_count": 4,
     "metadata": {},
     "output_type": "execute_result"
    }
   ],
   "source": [
    "sales"
   ]
  },
  {
   "cell_type": "code",
   "execution_count": 5,
   "metadata": {
    "collapsed": false
   },
   "outputs": [
    {
     "data": {
      "application/javascript": [
       "$(\"head\").append($(\"<link/>\").attr({\n",
       "  rel:  \"stylesheet\",\n",
       "  type: \"text/css\",\n",
       "  href: \"//cdnjs.cloudflare.com/ajax/libs/font-awesome/4.1.0/css/font-awesome.min.css\"\n",
       "}));\n",
       "$(\"head\").append($(\"<link/>\").attr({\n",
       "  rel:  \"stylesheet\",\n",
       "  type: \"text/css\",\n",
       "  href: \"https://static.turi.com/products/graphlab-create/2.1/canvas/css/canvas.css\"\n",
       "}));\n",
       "\n",
       "            (function(){\n",
       "\n",
       "                var e = null;\n",
       "                if (typeof element == 'undefined') {\n",
       "                    var scripts = document.getElementsByTagName('script');\n",
       "                    var thisScriptTag = scripts[scripts.length-1];\n",
       "                    var parentDiv = thisScriptTag.parentNode;\n",
       "                    e = document.createElement('div');\n",
       "                    parentDiv.appendChild(e);\n",
       "                } else {\n",
       "                    e = element[0];\n",
       "                }\n",
       "\n",
       "                if (typeof requirejs !== 'undefined') {\n",
       "                    // disable load timeout; ipython_app.js is large and can take a while to load.\n",
       "                    requirejs.config({waitSeconds: 0});\n",
       "                }\n",
       "\n",
       "                require(['https://static.turi.com/products/graphlab-create/2.1/canvas/js/ipython_app.js'], function(IPythonApp){\n",
       "                    var app = new IPythonApp();\n",
       "                    app.attachView('sframe','Plots', {\"selected_variable\": {\"name\": [\"sales\"], \"descriptives\": {\"rows\": 21613, \"columns\": 21}, \"view_component\": \"Plots\", \"view_file\": \"sframe\", \"view_params\": {\"y\": \"price\", \"x\": \"sqft_living\", \"columns\": [\"id\", \"date\", \"price\", \"bedrooms\", \"bathrooms\", \"sqft_living\", \"sqft_lot\", \"floors\", \"waterfront\", \"view\", \"condition\", \"grade\", \"sqft_above\", \"sqft_basement\", \"yr_built\", \"yr_renovated\", \"zipcode\", \"lat\", \"long\", \"sqft_living15\", \"sqft_lot15\"], \"view\": \"Scatter Plot\"}, \"view_components\": [\"Summary\", \"Table\", \"Bar Chart\", \"BoxWhisker Plot\", \"Line Chart\", \"Scatter Plot\", \"Heat Map\", \"Plots\"], \"type\": \"SFrame\", \"columns\": [{\"dtype\": \"str\", \"name\": \"id\"}, {\"dtype\": \"datetime\", \"name\": \"date\"}, {\"dtype\": \"float\", \"name\": \"price\"}, {\"dtype\": \"float\", \"name\": \"bedrooms\"}, {\"dtype\": \"float\", \"name\": \"bathrooms\"}, {\"dtype\": \"float\", \"name\": \"sqft_living\"}, {\"dtype\": \"float\", \"name\": \"sqft_lot\"}, {\"dtype\": \"float\", \"name\": \"floors\"}, {\"dtype\": \"int\", \"name\": \"waterfront\"}, {\"dtype\": \"int\", \"name\": \"view\"}, {\"dtype\": \"int\", \"name\": \"condition\"}, {\"dtype\": \"float\", \"name\": \"grade\"}, {\"dtype\": \"float\", \"name\": \"sqft_above\"}, {\"dtype\": \"float\", \"name\": \"sqft_basement\"}, {\"dtype\": \"float\", \"name\": \"yr_built\"}, {\"dtype\": \"float\", \"name\": \"yr_renovated\"}, {\"dtype\": \"str\", \"name\": \"zipcode\"}, {\"dtype\": \"float\", \"name\": \"lat\"}, {\"dtype\": \"float\", \"name\": \"long\"}, {\"dtype\": \"float\", \"name\": \"sqft_living15\"}, {\"dtype\": \"float\", \"name\": \"sqft_lot15\"}], \"column_identifiers\": [\"bathrooms\", \"sqft_living15\", \"sqft_above\", \"grade\", \"yr_built\", \"price\", \"bedrooms\", \"zipcode\", \"long\", \"id\", \"sqft_lot15\", \"sqft_living\", \"floors\", \"sqft_lot\", \"date\", \"waterfront\", \"sqft_basement\", \"yr_renovated\", \"lat\", \"condition\", \"view\"]}, \"complete\": 1, \"ipython\": true, \"progress\": 1.0, \"data\": [[2020.0, 507500.0], [1270.0, 343000.0], [1510.0, 535000.0], [3060.0, 775000.0], [1120.0, 615000.0], [5420.0, 1225000.0], [2460.0, 570000.0], [1570.0, 273950.0], [1820.0, 420000.0], [2990.0, 900000.0], [3560.0, 662500.0], [1550.0, 294010.0], [1080.0, 325000.0], [1360.0, 244000.0], [1880.0, 475000.0], [1950.0, 550000.0], [3130.0, 671000.0], [4560.0, 1675000.0], [3220.0, 605000.0], [4030.0, 890000.0], [2870.0, 540000.0], [980.0, 447000.0], [2250.0, 250000.0], [980.0, 260000.0], [1130.0, 420000.0], [3250.0, 463828.0], [1380.0, 235500.0], [2140.0, 564000.0], [1440.0, 269950.0], [3560.0, 843500.0], [1290.0, 359950.0], [1320.0, 296000.0], [2940.0, 1600000.0], [2240.0, 790000.0], [2020.0, 370000.0], [2700.0, 338150.0], [3305.0, 492000.0], [2630.0, 583000.0], [2390.0, 570000.0], [1670.0, 450000.0], [1220.0, 447000.0], [1690.0, 257500.0], [2460.0, 630000.0], [3980.0, 760000.0], [1640.0, 602000.0], [4150.0, 1950000.0], [4160.0, 1850000.0], [1480.0, 600000.0], [3970.0, 2300000.0], [2510.0, 600000.0], [1190.0, 228000.0], [2798.0, 499950.0], [1830.0, 415000.0], [1380.0, 275000.0], [2520.0, 750000.0], [1910.0, 620000.0], [2600.0, 750000.0], [1530.0, 583500.0], [3250.0, 951000.0], [2040.0, 600000.0], [1970.0, 374950.0], [2610.0, 674600.0], [2460.0, 240000.0], [2770.0, 402000.0], [1880.0, 453000.0], [1400.0, 276500.0], [1900.0, 550000.0], [2240.0, 287000.0], [1140.0, 206000.0], [2070.0, 493000.0], [840.0, 325000.0], [1860.0, 510000.0], [2260.0, 289659.0], [2600.0, 1697000.0], [1520.0, 425500.0], [2370.0, 545000.0], [2670.0, 410000.0], [1310.0, 181000.0], [2820.0, 456700.0], [890.0, 510000.0], [2350.0, 390000.0], [620.0, 175000.0], [2320.0, 325900.0], [1160.0, 370000.0], [2860.0, 1200000.0], [1980.0, 213000.0], [600.0, 110000.0], [3090.0, 760000.0], [2580.0, 915000.0], [2180.0, 210000.0], [3380.0, 1430000.0], [1500.0, 485000.0], [2780.0, 715000.0], [1670.0, 424000.0], [3910.0, 1650000.0], [1080.0, 218250.0], [1130.0, 250000.0], [2530.0, 734000.0], [1450.0, 465000.0], [2800.0, 515000.0], [1160.0, 312000.0], [1680.0, 629950.0], [1540.0, 462500.0], [2280.0, 356000.0], [1670.0, 280000.0], [2340.0, 375000.0], [730.0, 306950.0], [2720.0, 535000.0], [1440.0, 230000.0], [1980.0, 279000.0], [3600.0, 1350000.0], [1830.0, 286651.0], [1870.0, 350000.0], [1530.0, 279000.0], [1770.0, 490000.0], [4570.0, 1098000.0], [1360.0, 239000.0], [1010.0, 400000.0], [1730.0, 280400.0], [2910.0, 585083.0], [2400.0, 660000.0], [2280.0, 653675.0], [1240.0, 427500.0], [1890.0, 375000.0], [1880.0, 529000.0], [2040.0, 721000.0], [2605.0, 789800.0], [2400.0, 392500.0], [3580.0, 1150000.0], [2440.0, 720000.0], [2510.0, 900000.0], [770.0, 307000.0], [1790.0, 385000.0], [1630.0, 540000.0], [2140.0, 675000.0], [1720.0, 435000.0], [2300.0, 482000.0], [2930.0, 890000.0], [790.0, 198000.0], [1390.0, 450000.0], [1400.0, 395000.0], [1600.0, 525000.0], [3160.0, 1137500.0], [2500.0, 390000.0], [1790.0, 704300.0], [2090.0, 340000.0], [1660.0, 385000.0], [1520.0, 495000.0], [1490.0, 411000.0], [1160.0, 285000.0], [1360.0, 532170.0], [1680.0, 227000.0], [1370.0, 357000.0], [1190.0, 268300.0], [1130.0, 565000.0], [1680.0, 375000.0], [1680.0, 480000.0], [2038.0, 319950.0], [1550.0, 430000.0], [2310.0, 700000.0], [970.0, 172380.0], [2000.0, 320000.0], [1830.0, 452000.0], [1000.0, 303000.0], [2020.0, 420000.0], [2300.0, 350000.0], [1010.0, 255000.0], [860.0, 222900.0], [2000.0, 320000.0], [1100.0, 450000.0], [1240.0, 230000.0], [1080.0, 147400.0], [2820.0, 457000.0], [1580.0, 406000.0], [2590.0, 673000.0], [2720.0, 752500.0], [1290.0, 500000.0], [1140.0, 410000.0], [2580.0, 935000.0], [1610.0, 390000.0], [2030.0, 275000.0], [5760.0, 2880500.0], [960.0, 490000.0], [2320.0, 562500.0], [1650.0, 440000.0], [2470.0, 339000.0], [930.0, 390000.0], [1608.0, 274950.0], [3380.0, 569950.0], [1610.0, 438750.0], [1730.0, 269000.0], [4040.0, 2271150.0], [2990.0, 785000.0], [2720.0, 460000.0], [790.0, 159100.0], [1360.0, 237100.0], [1180.0, 447500.0], [3444.0, 430236.0], [1520.0, 405000.0], [1720.0, 535000.0], [750.0, 370000.0], [1940.0, 297000.0], [1200.0, 234000.0], [2040.0, 452500.0], [4180.0, 1886700.0], [1730.0, 435000.0], [2230.0, 439000.0], [940.0, 329000.0], [2160.0, 228950.0], [2140.0, 571000.0], [2100.0, 515000.0], [1430.0, 270000.0], [2240.0, 592500.0], [2180.0, 470000.0], [2980.0, 728935.0], [2110.0, 305000.0], [1720.0, 667000.0], [1810.0, 585000.0], [1880.0, 751750.0], [1720.0, 493000.0], [1510.0, 360000.0], [1720.0, 427000.0], [1950.0, 292000.0], [5510.0, 3800000.0], [2080.0, 480000.0], [3530.0, 908990.0], [2120.0, 575000.0], [3510.0, 1750000.0], [2580.0, 1770000.0], [1650.0, 547500.0], [1560.0, 459000.0], [2620.0, 1360000.0], [4730.0, 2453500.0], [720.0, 210000.0], [1660.0, 548800.0], [3284.0, 460458.0], [2540.0, 265000.0], [1560.0, 449000.0], [1000.0, 196000.0], [1850.0, 623000.0], [1190.0, 320000.0], [1030.0, 175000.0], [1750.0, 595000.0], [1440.0, 250000.0], [3250.0, 562000.0], [2420.0, 370000.0], [1470.0, 244000.0], [1820.0, 300000.0], [1050.0, 360000.0], [1470.0, 230000.0], [3200.0, 735000.0], [2540.0, 650000.0], [2030.0, 349500.0], [3740.0, 448000.0], [1030.0, 301000.0], [2080.0, 825000.0], [2440.0, 672000.0], [3320.0, 962000.0], [3030.0, 465000.0], [1720.0, 608000.0], [1050.0, 339950.0], [2960.0, 883000.0], [1360.0, 348500.0], [1350.0, 261000.0], [1050.0, 250000.0], [770.0, 220000.0], [1150.0, 165000.0], [1480.0, 890000.0], [2070.0, 272500.0], [5050.0, 2900000.0], [2010.0, 282000.0], [1420.0, 410000.0], [2300.0, 224000.0], [1080.0, 228500.0], [2190.0, 313000.0], [2350.0, 440000.0], [1130.0, 207000.0], [1440.0, 224000.0], [1800.0, 415000.0], [1550.0, 372500.0], [1730.0, 210000.0], [2920.0, 875000.0], [3000.0, 607500.0], [3480.0, 864327.0], [2690.0, 790000.0], [1170.0, 335000.0], [2510.0, 575000.0], [4940.0, 800000.0], [2000.0, 910000.0], [1060.0, 395350.0], [1860.0, 380000.0], [2120.0, 489000.0], [4168.0, 442000.0], [2460.0, 704111.0], [1620.0, 500000.0], [1280.0, 386500.0], [1760.0, 555000.0], [2260.0, 675000.0], [2560.0, 619000.0], [1720.0, 348000.0], [1450.0, 375000.0], [1980.0, 437000.0], [1600.0, 290000.0], [3030.0, 815000.0], [1530.0, 500000.0], [2100.0, 305000.0], [1500.0, 262500.0], [3300.0, 849990.0], [3190.0, 750000.0], [4430.0, 2750000.0], [1320.0, 275000.0], [2280.0, 530000.0], [2430.0, 1000000.0], [2150.0, 316500.0], [1660.0, 315000.0], [1920.0, 455000.0], [1120.0, 335000.0], [1650.0, 327500.0], [1310.0, 510000.0], [1540.0, 269000.0], [1630.0, 265000.0], [1290.0, 310000.0], [2940.0, 480000.0], [1890.0, 325000.0], [4150.0, 1206688.0], [1240.0, 240500.0], [2170.0, 465000.0], [950.0, 248000.0], [2040.0, 294000.0], [1960.0, 442000.0], [3190.0, 625000.0], [1790.0, 243000.0], [1810.0, 295000.0], [1410.0, 530000.0], [2530.0, 349900.0], [2140.0, 620000.0], [1280.0, 195000.0], [2400.0, 375000.0], [2980.0, 505000.0], [1740.0, 245000.0], [1322.0, 215000.0], [2410.0, 325000.0], [1450.0, 395000.0], [1660.0, 410000.0], [2230.0, 347500.0], [830.0, 455000.0], [1000.0, 484950.0], [3130.0, 937500.0], [3400.0, 1690000.0], [4250.0, 465000.0], [1470.0, 449950.0], [2230.0, 385000.0], [3340.0, 808000.0], [3840.0, 858450.0], [1550.0, 252000.0], [2380.0, 600000.0], [1250.0, 555000.0], [1320.0, 305000.0], [1180.0, 244000.0], [1322.0, 350000.0], [1350.0, 272450.0], [1170.0, 205000.0], [1820.0, 329500.0], [1850.0, 295000.0], [1770.0, 630000.0], [1030.0, 253000.0], [2400.0, 852000.0], [2550.0, 369000.0], [1940.0, 550000.0], [1580.0, 247800.0], [1040.0, 430000.0], [1980.0, 725000.0], [2830.0, 628000.0], [930.0, 290000.0], [1460.0, 240000.0], [2470.0, 550000.0], [2040.0, 580000.0], [1200.0, 345000.0], [1210.0, 345000.0], [1240.0, 379900.0], [1650.0, 440000.0], [1300.0, 205000.0], [1890.0, 1065000.0], [1640.0, 480000.0], [2030.0, 588000.0], [2790.0, 640000.0], [1160.0, 340000.0], [1270.0, 320000.0], [3410.0, 675000.0], [3480.0, 480000.0], [1550.0, 345000.0], [1370.0, 390000.0], [2270.0, 500000.0], [1620.0, 498000.0], [3840.0, 1118000.0], [2890.0, 416000.0], [2140.0, 365000.0], [780.0, 254922.0], [2120.0, 437000.0], [2410.0, 608000.0], [1840.0, 375000.0], [6810.0, 2479000.0], [1300.0, 428000.0], [3130.0, 665000.0], [3670.0, 569000.0], [3410.0, 2400000.0], [1850.0, 218000.0], [1140.0, 345000.0], [1540.0, 430000.0], [1420.0, 205000.0], [2000.0, 602000.0], [2130.0, 802000.0], [1050.0, 250000.0], [3020.0, 515000.0], [2150.0, 317500.0], [3410.0, 585000.0], [3520.0, 870000.0], [2300.0, 452000.0], [2280.0, 450000.0], [2770.0, 285000.0], [1770.0, 375000.0], [2480.0, 415000.0], [2630.0, 325000.0], [1640.0, 700000.0], [1630.0, 312900.0], [2420.0, 649950.0], [1910.0, 230000.0], [1660.0, 265000.0], [960.0, 332000.0], [2250.0, 445000.0], [2020.0, 401000.0], [920.0, 275000.0], [2100.0, 800000.0], [1320.0, 255000.0], [1810.0, 615500.0], [1720.0, 555000.0], [4870.0, 722500.0], [1400.0, 483000.0], [1330.0, 385000.0], [1340.0, 255000.0], [1290.0, 402500.0], [2580.0, 899900.0], [2680.0, 830200.0], [1590.0, 395000.0], [1660.0, 530000.0], [3370.0, 690000.0], [1100.0, 392500.0], [1530.0, 410000.0], [4300.0, 593500.0], [2120.0, 425000.0], [2870.0, 480000.0], [3770.0, 1038000.0], [2440.0, 525000.0], [1390.0, 460000.0], [1470.0, 265953.0], [2040.0, 467500.0], [1150.0, 227500.0], [4470.0, 1537000.0], [1090.0, 306000.0], [1630.0, 550000.0], [2815.0, 491000.0], [7050.0, 3800000.0], [1610.0, 268000.0], [740.0, 290000.0], [2960.0, 500000.0], [1380.0, 435000.0], [1480.0, 650000.0], [1380.0, 185000.0], [1110.0, 379500.0], [770.0, 265000.0], [3910.0, 780000.0], [2110.0, 280000.0], [3280.0, 750000.0], [2220.0, 800000.0], [1570.0, 495000.0], [2010.0, 875000.0], [4050.0, 1195000.0], [6670.0, 2998000.0], [2320.0, 308000.0], [2430.0, 405000.0], [1480.0, 285000.0], [1413.0, 286800.0], [1740.0, 650000.0], [2500.0, 585000.0], [3290.0, 695000.0], [1200.0, 389000.0], [1640.0, 414250.0], [1270.0, 422500.0], [1370.0, 280000.0], [5190.0, 2900000.0], [1450.0, 235000.0], [1660.0, 279950.0], [2020.0, 535000.0], [870.0, 435000.0], [3010.0, 754999.0], [2570.0, 634000.0], [1660.0, 570000.0], [1450.0, 309950.0], [1180.0, 220000.0], [2120.0, 437500.0], [2660.0, 557000.0], [1370.0, 185000.0], [2300.0, 453000.0], [2770.0, 1197354.0], [1650.0, 241000.0], [2340.0, 570000.0], [2270.0, 640000.0], [4230.0, 875000.0], [5310.0, 1050000.0], [4030.0, 1485000.0], [1960.0, 395000.0], [550.0, 290000.0], [2420.0, 525000.0], [1340.0, 520000.0], [1850.0, 445000.0], [2720.0, 594000.0], [1980.0, 308000.0], [620.0, 148000.0], [680.0, 365000.0], [3910.0, 782000.0], [1150.0, 221000.0], [2290.0, 339950.0], [2960.0, 449000.0], [1010.0, 180000.0], [4170.0, 1450000.0], [1200.0, 385000.0], [1230.0, 275000.0], [2990.0, 1075000.0], [1540.0, 312000.0], [1950.0, 621000.0], [940.0, 242500.0], [1120.0, 320000.0], [4740.0, 970000.0], [2360.0, 732000.0], [1210.0, 510000.0], [3570.0, 725000.0], [1540.0, 445000.0], [2060.0, 417500.0], [1360.0, 249000.0], [1450.0, 150000.0], [3340.0, 720000.0], [1800.0, 270000.0], [1520.0, 171000.0], [1610.0, 246700.0], [3150.0, 700000.0], [3020.0, 1400000.0], [1860.0, 380000.0], [1400.0, 267500.0], [1650.0, 575000.0], [1370.0, 585000.0], [4360.0, 1555000.0], [1350.0, 190000.0], [2220.0, 464000.0], [1730.0, 665000.0], [1300.0, 396000.0], [2990.0, 725000.0], [1870.0, 455000.0], [2060.0, 731100.0], [2750.0, 750000.0], [1930.0, 800000.0], [3480.0, 650000.0], [2090.0, 499000.0], [1340.0, 450000.0], [3960.0, 1220000.0], [2390.0, 359800.0], [1840.0, 435000.0], [1230.0, 540000.0], [1870.0, 521000.0], [1910.0, 617000.0], [1570.0, 404600.0], [1830.0, 338900.0], [1530.0, 642000.0], [1460.0, 445000.0], [1930.0, 289000.0], [1620.0, 247500.0], [1220.0, 300000.0], [2390.0, 980000.0], [3280.0, 2575000.0], [4140.0, 1839900.0], [1380.0, 473000.0], [1060.0, 346000.0], [1870.0, 377000.0], [960.0, 550000.0], [2060.0, 439000.0], [3500.0, 815000.0], [850.0, 294000.0], [3460.0, 980000.0], [2260.0, 224950.0], [1710.0, 211000.0], [1050.0, 349950.0], [2750.0, 535000.0], [2420.0, 870000.0], [2850.0, 875000.0], [1260.0, 300000.0], [2570.0, 626000.0], [1720.0, 649000.0], [1810.0, 990000.0], [2160.0, 220000.0], [2270.0, 310000.0], [1900.0, 450000.0], [1590.0, 355000.0], [4520.0, 1250000.0], [2481.0, 309000.0], [1150.0, 265950.0], [1270.0, 499000.0], [1400.0, 563500.0], [1270.0, 531000.0], [1760.0, 352950.0], [5850.0, 1525000.0], [2750.0, 869900.0], [3160.0, 685000.0], [1480.0, 420000.0], [2876.0, 895000.0], [1720.0, 475000.0], [2100.0, 1081000.0], [1590.0, 338000.0], [2280.0, 320000.0], [2000.0, 513000.0], [2700.0, 898000.0], [2530.0, 717500.0], [1960.0, 204250.0], [4290.0, 1160000.0], [860.0, 370000.0], [3310.0, 419000.0], [2170.0, 340000.0], [1700.0, 420000.0], [1940.0, 1330000.0], [2570.0, 390000.0], [920.0, 417000.0], [2060.0, 343888.0], [2450.0, 682000.0], [880.0, 312500.0], [2080.0, 426700.0], [2400.0, 885000.0], [1550.0, 537000.0], [1400.0, 190000.0], [1180.0, 400000.0], [1360.0, 245000.0], [1190.0, 260000.0], [2460.0, 579950.0], [2010.0, 699000.0], [680.0, 193000.0], [1140.0, 327000.0], [1640.0, 420000.0], [2840.0, 945000.0], [1300.0, 251000.0], [1740.0, 545000.0], [2640.0, 1025000.0], [870.0, 157000.0], [1020.0, 265000.0], [1310.0, 398000.0], [900.0, 315000.0], [1920.0, 325000.0], [1570.0, 349950.0], [1450.0, 375000.0], [3540.0, 775000.0], [1350.0, 245000.0], [2600.0, 840000.0], [4250.0, 1208000.0], [1120.0, 315000.0], [2070.0, 1350000.0], [1920.0, 554000.0], [1530.0, 640000.0], [1460.0, 315000.0], [1400.0, 545000.0], [2500.0, 364900.0], [1040.0, 198400.0], [2110.0, 565000.0], [3240.0, 1285000.0], [1450.0, 471000.0], [1300.0, 315000.0], [1780.0, 935000.0], [3650.0, 1280000.0], [1550.0, 525000.0], [2680.0, 459990.0], [1530.0, 590000.0], [2330.0, 595000.0], [820.0, 150000.0], [1220.0, 225000.0], [1560.0, 600000.0], [2410.0, 432000.0], [2580.0, 799000.0], [2490.0, 470000.0], [1990.0, 745000.0], [1450.0, 450000.0], [1980.0, 361500.0], [1410.0, 375000.0], [1570.0, 253000.0], [2900.0, 527000.0], [3630.0, 1180000.0], [1500.0, 270000.0], [2610.0, 750000.0], [760.0, 380000.0], [1920.0, 1011000.0], [2330.0, 372000.0], [1920.0, 360000.0], [2830.0, 700000.0], [1110.0, 448000.0], [1410.0, 399900.0], [3840.0, 1135000.0], [1400.0, 194000.0], [2000.0, 450000.0], [2520.0, 840500.0], [970.0, 345000.0], [2220.0, 374000.0], [1090.0, 319000.0], [1430.0, 234950.0], [1250.0, 370037.0], [800.0, 280000.0], [2340.0, 459950.0], [1940.0, 362500.0], [1070.0, 500000.0], [2680.0, 375000.0], [1590.0, 259000.0], [1430.0, 284000.0], [1397.0, 257000.0], [1830.0, 448500.0], [5410.0, 2544750.0], [1280.0, 495000.0], [2210.0, 314000.0], [1780.0, 635000.0], [3870.0, 589900.0], [1760.0, 544000.0], [1230.0, 433500.0], [4420.0, 925000.0], [2110.0, 327000.0], [2020.0, 262000.0], [2020.0, 385000.0], [910.0, 254000.0], [2160.0, 520000.0], [3220.0, 1205000.0], [1070.0, 420000.0], [3320.0, 679990.0], [2730.0, 612500.0], [1950.0, 438000.0], [1760.0, 289950.0], [2450.0, 687500.0], [1470.0, 420000.0], [2320.0, 305000.0], [1400.0, 233000.0], [1790.0, 197000.0], [2970.0, 829000.0], [2310.0, 362000.0], [1250.0, 344000.0], [2860.0, 1187500.0], [1760.0, 220000.0], [1400.0, 217000.0], [2840.0, 870000.0], [2310.0, 320000.0], [1310.0, 525000.0], [2330.0, 490000.0], [1900.0, 255000.0], [2990.0, 760000.0], [4230.0, 1465000.0], [750.0, 258305.0], [1600.0, 316500.0], [2250.0, 1060000.0], [1700.0, 331500.0], [980.0, 455000.0], [1220.0, 875000.0], [3150.0, 685000.0], [1190.0, 400000.0], [1990.0, 529219.0], [4040.0, 765000.0], [1090.0, 236000.0], [2000.0, 595000.0], [2650.0, 797000.0], [1100.0, 260000.0], [1315.0, 347000.0], [2630.0, 778000.0], [3280.0, 2300000.0], [2120.0, 455000.0], [1310.0, 390000.0], [1880.0, 266500.0], [960.0, 305000.0], [1280.0, 193000.0], [5774.0, 740000.0], [2940.0, 845000.0], [2800.0, 915000.0], [720.0, 235000.0], [1630.0, 165000.0], [1920.0, 330000.0], [1590.0, 385000.0], [2200.0, 512500.0], [3610.0, 650000.0], [880.0, 415000.0], [1140.0, 188000.0], [2500.0, 368500.0], [1960.0, 375000.0], [2220.0, 771000.0], [2920.0, 550000.0], [2740.0, 510000.0], [1840.0, 686000.0], [980.0, 329900.0], [1700.0, 985000.0], [2870.0, 872750.0], [3200.0, 737500.0], [930.0, 176500.0], [1690.0, 622000.0], [4470.0, 598800.0], [4030.0, 929000.0], [1960.0, 310000.0], [2811.0, 455000.0], [1700.0, 979000.0], [2010.0, 500000.0], [1890.0, 311850.0], [3830.0, 1150000.0], [1200.0, 320000.0], [940.0, 225000.0], [2720.0, 685000.0], [1250.0, 345000.0], [1000.0, 230000.0], [3420.0, 650000.0], [1830.0, 358000.0], [2380.0, 699900.0], [2350.0, 1050000.0], [1590.0, 480000.0], [1620.0, 580000.0], [1930.0, 583000.0], [2990.0, 814950.0], [1300.0, 700000.0], [2800.0, 740000.0], [1660.0, 529941.0], [700.0, 282150.0], [830.0, 350000.0], [3760.0, 2230000.0], [1120.0, 464600.0], [1300.0, 175000.0], [2680.0, 1028950.0], [1920.0, 341000.0], [2700.0, 550000.0], [1930.0, 531800.0], [2560.0, 399500.0], [1390.0, 350000.0], [3010.0, 750000.0], [1260.0, 475000.0], [2650.0, 424000.0], [2650.0, 702000.0], [1960.0, 723000.0], [5490.0, 3635000.0], [2990.0, 760000.0], [1340.0, 320000.0], [2830.0, 774000.0], [4475.0, 2574000.0], [2230.0, 690000.0], [700.0, 191000.0], [1660.0, 360000.0], [2530.0, 975000.0], [2120.0, 300000.0], [3230.0, 834950.0], [1140.0, 560000.0], [2150.0, 430000.0], [1180.0, 229500.0], [1880.0, 554500.0], [2040.0, 705000.0], [3190.0, 864000.0], [2290.0, 949880.0], [1760.0, 460000.0], [1720.0, 514000.0], [1470.0, 638000.0], [1620.0, 370000.0], [2660.0, 423000.0], [1600.0, 218500.0], [990.0, 430000.0], [2030.0, 420000.0], [2980.0, 680000.0], [1050.0, 250000.0], [1130.0, 443000.0], [1070.0, 220000.0], [2440.0, 720000.0], [2850.0, 360000.0], [3280.0, 594950.0], [2820.0, 465000.0], [3160.0, 553000.0], [1280.0, 360000.0], [7100.0, 3200000.0], [1370.0, 264950.0], [1380.0, 209950.0], [1810.0, 279000.0], [4830.0, 1925000.0], [4910.0, 1544500.0], [4410.0, 1500000.0], [1740.0, 300000.0], [1970.0, 402000.0], [2200.0, 930000.0], [4480.0, 490000.0], [1580.0, 537000.0], [1830.0, 427000.0], [2090.0, 385000.0], [1620.0, 280500.0], [1800.0, 442500.0], [820.0, 185000.0], [1130.0, 550000.0], [2820.0, 432000.0], [1910.0, 300000.0], [1630.0, 740000.0], [2450.0, 399950.0], [2190.0, 297500.0], [1880.0, 310000.0], [1600.0, 280000.0], [1620.0, 842000.0], [1060.0, 506000.0], [1740.0, 399000.0], [1930.0, 670000.0], [1360.0, 265000.0], [1440.0, 440000.0], [1460.0, 465000.0], [1910.0, 657500.0], [1580.0, 489950.0], [2210.0, 589000.0], [1470.0, 225000.0], [1760.0, 247500.0], [1410.0, 205000.0], [2480.0, 480000.0], [2760.0, 800000.0], [820.0, 489950.0], [2600.0, 415000.0], [3130.0, 565000.0], [680.0, 252000.0], [1750.0, 542500.0], [3200.0, 712000.0], [4400.0, 1050000.0], [2150.0, 755000.0], [2020.0, 287500.0], [2120.0, 386000.0], [2750.0, 615000.0], [2070.0, 372000.0], [810.0, 450000.0], [3060.0, 415000.0], [2190.0, 700000.0], [1320.0, 300000.0], [2220.0, 456000.0], [2810.0, 301000.0], [4020.0, 1898000.0], [2170.0, 460500.0], [2670.0, 339950.0], [2050.0, 528000.0], [1900.0, 215000.0], [2200.0, 585000.0], [1580.0, 350000.0], [1620.0, 467100.0], [1330.0, 257000.0], [2840.0, 790000.0], [2890.0, 390000.0], [2120.0, 1320000.0], [2150.0, 419000.0], [1260.0, 188200.0], [920.0, 179950.0], [1850.0, 399950.0], [1870.0, 445830.0], [1390.0, 245000.0], [2820.0, 697000.0], [1490.0, 460500.0], [1590.0, 330000.0], [720.0, 300000.0], [2950.0, 1865000.0], [1650.0, 371500.0], [1450.0, 257000.0], [1980.0, 335000.0], [4470.0, 1476000.0], [2170.0, 585000.0], [1010.0, 385000.0], [1580.0, 299980.0], [1000.0, 400000.0], [1880.0, 1000000.0], [2480.0, 325000.0], [1730.0, 459000.0], [3110.0, 585000.0], [2330.0, 732000.0], [1960.0, 425000.0], [1040.0, 217450.0], [1980.0, 268000.0], [3240.0, 651000.0], [2880.0, 1125000.0], [1320.0, 269000.0], [2150.0, 428040.0], [1070.0, 330000.0], [2740.0, 1070000.0], [1400.0, 148226.0], [1600.0, 455000.0], [1670.0, 696000.0], [2692.0, 435000.0], [2160.0, 433000.0], [1850.0, 469500.0], [950.0, 475000.0], [1480.0, 200000.0], [2510.0, 955000.0], [1860.0, 309620.0], [1890.0, 409000.0], [1810.0, 450000.0], [2095.0, 670000.0], [2100.0, 840000.0], [1070.0, 195000.0], [3700.0, 898000.0], [1200.0, 160000.0], [1390.0, 175003.0], [1990.0, 309000.0], [3080.0, 750000.0], [1300.0, 539900.0], [2980.0, 1595000.0]], \"columns\": [{\"dtype\": \"str\", \"name\": \"id\"}, {\"dtype\": \"datetime\", \"name\": \"date\"}, {\"dtype\": \"float\", \"name\": \"price\"}, {\"dtype\": \"float\", \"name\": \"bedrooms\"}, {\"dtype\": \"float\", \"name\": \"bathrooms\"}, {\"dtype\": \"float\", \"name\": \"sqft_living\"}, {\"dtype\": \"float\", \"name\": \"sqft_lot\"}, {\"dtype\": \"float\", \"name\": \"floors\"}, {\"dtype\": \"int\", \"name\": \"waterfront\"}, {\"dtype\": \"int\", \"name\": \"view\"}, {\"dtype\": \"int\", \"name\": \"condition\"}, {\"dtype\": \"float\", \"name\": \"grade\"}, {\"dtype\": \"float\", \"name\": \"sqft_above\"}, {\"dtype\": \"float\", \"name\": \"sqft_basement\"}, {\"dtype\": \"float\", \"name\": \"yr_built\"}, {\"dtype\": \"float\", \"name\": \"yr_renovated\"}, {\"dtype\": \"str\", \"name\": \"zipcode\"}, {\"dtype\": \"float\", \"name\": \"lat\"}, {\"dtype\": \"float\", \"name\": \"long\"}, {\"dtype\": \"float\", \"name\": \"sqft_living15\"}, {\"dtype\": \"float\", \"name\": \"sqft_lot15\"}]}, e);\n",
       "                });\n",
       "            })();\n",
       "        "
      ]
     },
     "metadata": {},
     "output_type": "display_data"
    }
   ],
   "source": [
    "graphlab.canvas.set_target('ipynb')\n",
    "sales.show(view=\"Scatter Plot\", x=\"sqft_living\", y=\"price\")"
   ]
  },
  {
   "cell_type": "markdown",
   "metadata": {},
   "source": [
    "## Little Regression Model"
   ]
  },
  {
   "cell_type": "markdown",
   "metadata": {},
   "source": [
    "# Training the data"
   ]
  },
  {
   "cell_type": "code",
   "execution_count": 7,
   "metadata": {
    "collapsed": false
   },
   "outputs": [],
   "source": [
    "train_data,test_data = sales.random_split(.8,seed=0)"
   ]
  },
  {
   "cell_type": "code",
   "execution_count": 8,
   "metadata": {
    "collapsed": false
   },
   "outputs": [
    {
     "name": "stdout",
     "output_type": "stream",
     "text": [
      "PROGRESS: Creating a validation set from 5 percent of training data. This may take a while.\n",
      "          You can set ``validation_set=None`` to disable validation tracking.\n",
      "\n"
     ]
    },
    {
     "data": {
      "text/html": [
       "<pre>Linear regression:</pre>"
      ],
      "text/plain": [
       "Linear regression:"
      ]
     },
     "metadata": {},
     "output_type": "display_data"
    },
    {
     "data": {
      "text/html": [
       "<pre>--------------------------------------------------------</pre>"
      ],
      "text/plain": [
       "--------------------------------------------------------"
      ]
     },
     "metadata": {},
     "output_type": "display_data"
    },
    {
     "data": {
      "text/html": [
       "<pre>Number of examples          : 16567</pre>"
      ],
      "text/plain": [
       "Number of examples          : 16567"
      ]
     },
     "metadata": {},
     "output_type": "display_data"
    },
    {
     "data": {
      "text/html": [
       "<pre>Number of features          : 1</pre>"
      ],
      "text/plain": [
       "Number of features          : 1"
      ]
     },
     "metadata": {},
     "output_type": "display_data"
    },
    {
     "data": {
      "text/html": [
       "<pre>Number of unpacked features : 1</pre>"
      ],
      "text/plain": [
       "Number of unpacked features : 1"
      ]
     },
     "metadata": {},
     "output_type": "display_data"
    },
    {
     "data": {
      "text/html": [
       "<pre>Number of coefficients    : 2</pre>"
      ],
      "text/plain": [
       "Number of coefficients    : 2"
      ]
     },
     "metadata": {},
     "output_type": "display_data"
    },
    {
     "data": {
      "text/html": [
       "<pre>Starting Newton Method</pre>"
      ],
      "text/plain": [
       "Starting Newton Method"
      ]
     },
     "metadata": {},
     "output_type": "display_data"
    },
    {
     "data": {
      "text/html": [
       "<pre>--------------------------------------------------------</pre>"
      ],
      "text/plain": [
       "--------------------------------------------------------"
      ]
     },
     "metadata": {},
     "output_type": "display_data"
    },
    {
     "data": {
      "text/html": [
       "<pre>+-----------+----------+--------------+--------------------+----------------------+---------------+-----------------+</pre>"
      ],
      "text/plain": [
       "+-----------+----------+--------------+--------------------+----------------------+---------------+-----------------+"
      ]
     },
     "metadata": {},
     "output_type": "display_data"
    },
    {
     "data": {
      "text/html": [
       "<pre>| Iteration | Passes   | Elapsed Time | Training-max_error | Validation-max_error | Training-rmse | Validation-rmse |</pre>"
      ],
      "text/plain": [
       "| Iteration | Passes   | Elapsed Time | Training-max_error | Validation-max_error | Training-rmse | Validation-rmse |"
      ]
     },
     "metadata": {},
     "output_type": "display_data"
    },
    {
     "data": {
      "text/html": [
       "<pre>+-----------+----------+--------------+--------------------+----------------------+---------------+-----------------+</pre>"
      ],
      "text/plain": [
       "+-----------+----------+--------------+--------------------+----------------------+---------------+-----------------+"
      ]
     },
     "metadata": {},
     "output_type": "display_data"
    },
    {
     "data": {
      "text/html": [
       "<pre>| 1         | 2        | 1.010239     | 4343833.641664     | 1837841.762949       | 263572.989220 | 249851.563360   |</pre>"
      ],
      "text/plain": [
       "| 1         | 2        | 1.010239     | 4343833.641664     | 1837841.762949       | 263572.989220 | 249851.563360   |"
      ]
     },
     "metadata": {},
     "output_type": "display_data"
    },
    {
     "data": {
      "text/html": [
       "<pre>+-----------+----------+--------------+--------------------+----------------------+---------------+-----------------+</pre>"
      ],
      "text/plain": [
       "+-----------+----------+--------------+--------------------+----------------------+---------------+-----------------+"
      ]
     },
     "metadata": {},
     "output_type": "display_data"
    },
    {
     "data": {
      "text/html": [
       "<pre>SUCCESS: Optimal solution found.</pre>"
      ],
      "text/plain": [
       "SUCCESS: Optimal solution found."
      ]
     },
     "metadata": {},
     "output_type": "display_data"
    },
    {
     "data": {
      "text/html": [
       "<pre></pre>"
      ],
      "text/plain": []
     },
     "metadata": {},
     "output_type": "display_data"
    }
   ],
   "source": [
    "sqft_model = graphlab.linear_regression.create(train_data, target='price', features=['sqft_living'])"
   ]
  },
  {
   "cell_type": "markdown",
   "metadata": {},
   "source": [
    "## Evaluating the model we trained"
   ]
  },
  {
   "cell_type": "code",
   "execution_count": 10,
   "metadata": {
    "collapsed": false
   },
   "outputs": [
    {
     "name": "stdout",
     "output_type": "stream",
     "text": [
      "543054.042563\n"
     ]
    }
   ],
   "source": [
    "print test_data['price'].mean() #its showing the mean value of the testing data "
   ]
  },
  {
   "cell_type": "code",
   "execution_count": 11,
   "metadata": {
    "collapsed": false
   },
   "outputs": [
    {
     "name": "stdout",
     "output_type": "stream",
     "text": [
      "{'max_error': 4139107.980593988, 'rmse': 255205.48542619465}\n"
     ]
    }
   ],
   "source": [
    "print sqft_model.evaluate(test_data) #here the error RMSE is too much including the max error"
   ]
  },
  {
   "cell_type": "markdown",
   "metadata": {},
   "source": [
    "## checking how our predictions look like in matplotlib"
   ]
  },
  {
   "cell_type": "code",
   "execution_count": 12,
   "metadata": {
    "collapsed": true
   },
   "outputs": [],
   "source": [
    "import matplotlib.pyplot as plt\n",
    "%matplotlib inline"
   ]
  },
  {
   "cell_type": "code",
   "execution_count": 14,
   "metadata": {
    "collapsed": false
   },
   "outputs": [
    {
     "data": {
      "text/plain": [
       "[<matplotlib.lines.Line2D at 0x230a6a58>,\n",
       " <matplotlib.lines.Line2D at 0x230a6b00>]"
      ]
     },
     "execution_count": 14,
     "metadata": {},
     "output_type": "execute_result"
    },
    {
     "data": {
      "image/png": "[encoded data removed]",
      "text/plain": [
       "<matplotlib.figure.Figure at 0x22c58c18>"
      ]
     },
     "metadata": {},
     "output_type": "display_data"
    }
   ],
   "source": [
    "plt.plot(test_data['sqft_living'], test_data['price'],'.',\n",
    "        test_data['sqft_living'],sqft_model.predict(test_data),'-')"
   ]
  },
  {
   "cell_type": "code",
   "execution_count": 16,
   "metadata": {
    "collapsed": false
   },
   "outputs": [
    {
     "data": {
      "text/html": [
       "<div style=\"max-height:1000px;max-width:1500px;overflow:auto;\"><table frame=\"box\" rules=\"cols\">\n",
       "    <tr>\n",
       "        <th style=\"padding-left: 1em; padding-right: 1em; text-align: center\">name</th>\n",
       "        <th style=\"padding-left: 1em; padding-right: 1em; text-align: center\">index</th>\n",
       "        <th style=\"padding-left: 1em; padding-right: 1em; text-align: center\">value</th>\n",
       "        <th style=\"padding-left: 1em; padding-right: 1em; text-align: center\">stderr</th>\n",
       "    </tr>\n",
       "    <tr>\n",
       "        <td style=\"padding-left: 1em; padding-right: 1em; text-align: center; vertical-align: top\">(intercept)</td>\n",
       "        <td style=\"padding-left: 1em; padding-right: 1em; text-align: center; vertical-align: top\">None</td>\n",
       "        <td style=\"padding-left: 1em; padding-right: 1em; text-align: center; vertical-align: top\">-48373.3565282</td>\n",
       "        <td style=\"padding-left: 1em; padding-right: 1em; text-align: center; vertical-align: top\">5037.55177836</td>\n",
       "    </tr>\n",
       "    <tr>\n",
       "        <td style=\"padding-left: 1em; padding-right: 1em; text-align: center; vertical-align: top\">sqft_living</td>\n",
       "        <td style=\"padding-left: 1em; padding-right: 1em; text-align: center; vertical-align: top\">None</td>\n",
       "        <td style=\"padding-left: 1em; padding-right: 1em; text-align: center; vertical-align: top\">282.534416171</td>\n",
       "        <td style=\"padding-left: 1em; padding-right: 1em; text-align: center; vertical-align: top\">2.2119175559</td>\n",
       "    </tr>\n",
       "</table>\n",
       "[2 rows x 4 columns]<br/>\n",
       "</div>"
      ],
      "text/plain": [
       "Columns:\n",
       "\tname\tstr\n",
       "\tindex\tstr\n",
       "\tvalue\tfloat\n",
       "\tstderr\tfloat\n",
       "\n",
       "Rows: 2\n",
       "\n",
       "Data:\n",
       "+-------------+-------+----------------+---------------+\n",
       "|     name    | index |     value      |     stderr    |\n",
       "+-------------+-------+----------------+---------------+\n",
       "| (intercept) |  None | -48373.3565282 | 5037.55177836 |\n",
       "| sqft_living |  None | 282.534416171  |  2.2119175559 |\n",
       "+-------------+-------+----------------+---------------+\n",
       "[2 rows x 4 columns]"
      ]
     },
     "execution_count": 16,
     "metadata": {},
     "output_type": "execute_result"
    }
   ],
   "source": [
    "sqft_model.get('coefficients')"
   ]
  },
  {
   "cell_type": "code",
   "execution_count": null,
   "metadata": {
    "collapsed": true
   },
   "outputs": [],
   "source": []
  }
 ],
 "metadata": {
  "kernelspec": {
   "display_name": "Python 2",
   "language": "python",
   "name": "python2"
  },
  "language_info": {
   "codemirror_mode": {
    "name": "ipython",
    "version": 2
   },
   "file_extension": ".py",
   "mimetype": "text/x-python",
   "name": "python",
   "nbconvert_exporter": "python",
   "pygments_lexer": "ipython2",
   "version": "2.7.13"
  }
 },
 "nbformat": 4,
 "nbformat_minor": 0
}
